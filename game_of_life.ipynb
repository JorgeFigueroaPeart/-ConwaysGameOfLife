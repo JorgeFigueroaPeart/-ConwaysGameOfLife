{
 "cells": [
  {
   "cell_type": "code",
   "execution_count": 16,
   "metadata": {},
   "outputs": [
    {
     "data": {
      "text/plain": [
       "#'user/n"
      ]
     },
     "execution_count": 16,
     "metadata": {},
     "output_type": "execute_result"
    }
   ],
   "source": [
    ";Parámetros iniciales m y n\n",
    "(def m 10) ; Size of the world is m x m\n",
    "(def n 5)  ; Number of generations that will be calculated and printed"
   ]
  },
  {
   "cell_type": "code",
   "execution_count": 17,
   "metadata": {},
   "outputs": [
    {
     "data": {
      "text/plain": [
       "#'user/printMat"
      ]
     },
     "execution_count": 17,
     "metadata": {},
     "output_type": "execute_result"
    }
   ],
   "source": [
    ";These functions will print the matrix\n",
    "(defn printArr [arr]\n",
    "    (loop [x 0]\n",
    "        (if(< x m)\n",
    "            (do (print (get arr x) \" \")(recur (+ x 1)))\n",
    "         )\n",
    "     )\n",
    "    (println)\n",
    ")\n",
    "(defn printMat [mat gen]\n",
    "    (println \"Generación:\" gen)\n",
    "    (loop [x 0]\n",
    "        (if(< x m)\n",
    "            (do \n",
    "                (printArr (get mat x))\n",
    "                (recur (+ x 1))\n",
    "            )\n",
    "         )\n",
    "     )\n",
    ")"
   ]
  },
  {
   "cell_type": "code",
   "execution_count": 18,
   "metadata": {},
   "outputs": [
    {
     "data": {
      "text/plain": [
       "#'user/insertOnMat"
      ]
     },
     "execution_count": 18,
     "metadata": {},
     "output_type": "execute_result"
    }
   ],
   "source": [
    ";Inserts and element in an x y position in the matrix\n",
    "(defn insertOnMat [mat x y]\n",
    "    (assoc mat x (assoc (get mat x) y 1))\n",
    ")"
   ]
  },
  {
   "cell_type": "code",
   "execution_count": 19,
   "metadata": {},
   "outputs": [
    {
     "name": "stdout",
     "output_type": "stream",
     "text": [
      "Generación: 0\n",
      "0  1  0  0  0  0  0  0  0  0  \n",
      "0  0  1  0  0  0  0  0  0  0  \n",
      "1  1  1  0  0  0  0  0  0  0  \n",
      "0  0  0  0  0  0  0  0  0  0  \n",
      "0  0  0  0  0  0  0  0  0  0  \n",
      "0  0  0  0  0  0  0  0  0  0  \n",
      "0  0  0  0  0  0  0  0  0  0  \n",
      "0  0  0  0  0  0  0  0  0  0  \n",
      "0  0  0  0  0  0  0  0  0  0  \n",
      "0  0  0  0  0  0  0  0  0  0  \n"
     ]
    },
    {
     "data": {
      "text/plain": [
       "nil"
      ]
     },
     "execution_count": 19,
     "metadata": {},
     "output_type": "execute_result"
    }
   ],
   "source": [
    ";Here we can establish generation zero, by adding cells where we need them\n",
    "(def matrix (vec (replicate m (vec (replicate m 0)))))\n",
    "(def matrix (insertOnMat matrix 0 1))\n",
    "(def matrix (insertOnMat matrix 1 2))\n",
    "(def matrix (insertOnMat matrix 2 0))\n",
    "(def matrix (insertOnMat matrix 2 1))\n",
    "(def matrix (insertOnMat matrix 2 2))\n",
    "(printMat matrix 0)"
   ]
  },
  {
   "cell_type": "code",
   "execution_count": 20,
   "metadata": {},
   "outputs": [
    {
     "data": {
      "text/plain": [
       "#'user/checkCell"
      ]
     },
     "execution_count": 20,
     "metadata": {},
     "output_type": "execute_result"
    }
   ],
   "source": [
    ";Does the all around checking over a single cell\n",
    "(defn checkCell [mat x y]\n",
    "    (def i 0)\n",
    "    (if (> x 0)\n",
    "        (do\n",
    "            (if (> y 0)\n",
    "                (do\n",
    "                    (if (= 1 (get (get mat (- x 1)) (- y 1)))\n",
    "                        (def i (+ i 1)) ;Top Left\n",
    "                    )\n",
    "                )     \n",
    "            )\n",
    "            (if (< y m)\n",
    "                (if (= 1 (get (get mat (- x 1)) (+ y 1)))\n",
    "                    (def i (+ i 1)) ;Top Right\n",
    "                )\n",
    "            )\n",
    "            (if (= 1 (get (get mat (- x 1)) y))\n",
    "                (def i (+ i 1)) ;Top Mid\n",
    "            )\n",
    "        )\n",
    "     )\n",
    "    (if (> y 0)\n",
    "        (do\n",
    "            (if (< x m)\n",
    "                (if (= 1 (get (get mat (+ x 1)) (- y 1)))\n",
    "                    (def i (+ i 1)) ;Bot Left\n",
    "                )\n",
    "            )\n",
    "            (if (= 1 (get (get mat x) (- y 1)))\n",
    "                (def i (+ i 1)) ;Mid Left\n",
    "            )\n",
    "        )\n",
    "    )\n",
    "    (if (< x m)\n",
    "        (do\n",
    "            (if (< y m)\n",
    "                (if (= 1 (get (get mat (+ x 1)) (+ y 1)))\n",
    "                    (def i (+ i 1)) ;Bot Right\n",
    "                )\n",
    "            )\n",
    "            (if (= 1 (get (get mat (+ x 1)) y ))\n",
    "                (def i (+ i 1)) ;Bot Mid\n",
    "            )\n",
    "        )\n",
    "    )\n",
    "    (if (< y m)\n",
    "        (if (= 1 (get (get mat  x) (+ y 1) ))\n",
    "                (def i (+ i 1)) ;Mid Right\n",
    "        )\n",
    "    )\n",
    "    (if (< i 2)\n",
    "        0\n",
    "        (if (and (= i 3) (= (get (get mat x) y) 0))\n",
    "            1\n",
    "            (if (> i 3)\n",
    "                0\n",
    "                (if (and (or (= i 2) (= i 3)) (= (get (get mat x) y) 1))\n",
    "                    1\n",
    "                    0\n",
    "                )\n",
    "            )\n",
    "        )         \n",
    "     )\n",
    " )"
   ]
  },
  {
   "cell_type": "code",
   "execution_count": 21,
   "metadata": {},
   "outputs": [
    {
     "data": {
      "text/plain": [
       "#'user/newGen"
      ]
     },
     "execution_count": 21,
     "metadata": {},
     "output_type": "execute_result"
    }
   ],
   "source": [
    ";iterates through the whole matrix and checks every cell\n",
    "(defn checkLine [mat line x]\n",
    "    (loop [y 0 newMat [] ]\n",
    "        (if(< y m)\n",
    "            (do \n",
    "                (recur (+ y 1) (conj newMat (checkCell mat x y)))\n",
    "            )\n",
    "            newMat\n",
    "         )\n",
    "     )\n",
    "    \n",
    " )\n",
    "(defn newGen [mat]\n",
    "    (loop [x 0 newMat [] ]\n",
    "        (if(< x m)\n",
    "            (do \n",
    "                (recur (+ x 1) (conj newMat (checkLine mat (get mat x) x)))\n",
    "            )\n",
    "            newMat\n",
    "         )\n",
    "     )\n",
    ")"
   ]
  },
  {
   "cell_type": "code",
   "execution_count": 22,
   "metadata": {},
   "outputs": [
    {
     "name": "stdout",
     "output_type": "stream",
     "text": [
      "Generación: 0\n",
      "0  1  0  0  0  0  0  0  0  0  \n",
      "0  0  1  0  0  0  0  0  0  0  \n",
      "1  1  1  0  0  0  0  0  0  0  \n",
      "0  0  0  0  0  0  0  0  0  0  \n",
      "0  0  0  0  0  0  0  0  0  0  \n",
      "0  0  0  0  0  0  0  0  0  0  \n",
      "0  0  0  0  0  0  0  0  0  0  \n",
      "0  0  0  0  0  0  0  0  0  0  \n",
      "0  0  0  0  0  0  0  0  0  0  \n",
      "0  0  0  0  0  0  0  0  0  0  \n",
      "Generación: 1\n",
      "0  0  0  0  0  0  0  0  0  0  \n",
      "1  0  1  0  0  0  0  0  0  0  \n",
      "0  1  1  0  0  0  0  0  0  0  \n",
      "0  1  0  0  0  0  0  0  0  0  \n",
      "0  0  0  0  0  0  0  0  0  0  \n",
      "0  0  0  0  0  0  0  0  0  0  \n",
      "0  0  0  0  0  0  0  0  0  0  \n",
      "0  0  0  0  0  0  0  0  0  0  \n",
      "0  0  0  0  0  0  0  0  0  0  \n",
      "0  0  0  0  0  0  0  0  0  0  \n",
      "Generación: 2\n",
      "0  0  0  0  0  0  0  0  0  0  \n",
      "0  0  1  0  0  0  0  0  0  0  \n",
      "1  0  1  0  0  0  0  0  0  0  \n",
      "0  1  1  0  0  0  0  0  0  0  \n",
      "0  0  0  0  0  0  0  0  0  0  \n",
      "0  0  0  0  0  0  0  0  0  0  \n",
      "0  0  0  0  0  0  0  0  0  0  \n",
      "0  0  0  0  0  0  0  0  0  0  \n",
      "0  0  0  0  0  0  0  0  0  0  \n",
      "0  0  0  0  0  0  0  0  0  0  \n",
      "Generación: 3\n",
      "0  0  0  0  0  0  0  0  0  0  \n",
      "0  1  0  0  0  0  0  0  0  0  \n",
      "0  0  1  1  0  0  0  0  0  0  \n",
      "0  1  1  0  0  0  0  0  0  0  \n",
      "0  0  0  0  0  0  0  0  0  0  \n",
      "0  0  0  0  0  0  0  0  0  0  \n",
      "0  0  0  0  0  0  0  0  0  0  \n",
      "0  0  0  0  0  0  0  0  0  0  \n",
      "0  0  0  0  0  0  0  0  0  0  \n",
      "0  0  0  0  0  0  0  0  0  0  \n",
      "Generación: 4\n",
      "0  0  0  0  0  0  0  0  0  0  \n",
      "0  0  1  0  0  0  0  0  0  0  \n",
      "0  0  0  1  0  0  0  0  0  0  \n",
      "0  1  1  1  0  0  0  0  0  0  \n",
      "0  0  0  0  0  0  0  0  0  0  \n",
      "0  0  0  0  0  0  0  0  0  0  \n",
      "0  0  0  0  0  0  0  0  0  0  \n",
      "0  0  0  0  0  0  0  0  0  0  \n",
      "0  0  0  0  0  0  0  0  0  0  \n",
      "0  0  0  0  0  0  0  0  0  0  \n",
      "Generación: 5\n",
      "0  0  0  0  0  0  0  0  0  0  \n",
      "0  0  0  0  0  0  0  0  0  0  \n",
      "0  1  0  1  0  0  0  0  0  0  \n",
      "0  0  1  1  0  0  0  0  0  0  \n",
      "0  0  1  0  0  0  0  0  0  0  \n",
      "0  0  0  0  0  0  0  0  0  0  \n",
      "0  0  0  0  0  0  0  0  0  0  \n",
      "0  0  0  0  0  0  0  0  0  0  \n",
      "0  0  0  0  0  0  0  0  0  0  \n",
      "0  0  0  0  0  0  0  0  0  0  \n"
     ]
    },
    {
     "data": {
      "text/plain": [
       "\"Simulation over\""
      ]
     },
     "execution_count": 22,
     "metadata": {},
     "output_type": "execute_result"
    }
   ],
   "source": [
    ";Main, this will loop every generation needed and print them\n",
    "(def currGen matrix)\n",
    "(printMat matrix 0)\n",
    "(loop [i 1]\n",
    "   (if (<= i n)\n",
    "       (do\n",
    "           (def currGen (newGen currGen))\n",
    "           (printMat currGen i)\n",
    "           (recur (+ i 1))\n",
    "        )\n",
    "    )\n",
    ")\n",
    "\"Simulation over\""
   ]
  }
 ],
 "metadata": {
  "kernelspec": {
   "display_name": "Clojure (clojupyter=0.3.2=1)",
   "language": "clojure",
   "name": "conda-clojupyter"
  },
  "language_info": {
   "file_extension": ".clj",
   "mimetype": "text/x-clojure",
   "name": "clojure",
   "version": "1.10.1"
  }
 },
 "nbformat": 4,
 "nbformat_minor": 4
}
